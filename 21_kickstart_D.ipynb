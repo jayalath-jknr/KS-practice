{
  "nbformat": 4,
  "nbformat_minor": 0,
  "metadata": {
    "colab": {
      "name": "21 kickstart D.ipynb",
      "provenance": [],
      "authorship_tag": "ABX9TyN2mFpnCnrpGXN7GY8/55a1",
      "include_colab_link": true
    },
    "kernelspec": {
      "name": "python3",
      "display_name": "Python 3"
    },
    "language_info": {
      "name": "python"
    }
  },
  "cells": [
    {
      "cell_type": "markdown",
      "metadata": {
        "id": "view-in-github",
        "colab_type": "text"
      },
      "source": [
        "<a href=\"https://colab.research.google.com/github/jayalath-jknr/KS-practice/blob/main/21_kickstart_D.ipynb\" target=\"_parent\"><img src=\"https://colab.research.google.com/assets/colab-badge.svg\" alt=\"Open In Colab\"/></a>"
      ]
    },
    {
      "cell_type": "code",
      "execution_count": null,
      "metadata": {
        "id": "jsOkRbDTYgeZ"
      },
      "outputs": [],
      "source": [
        "def f(N,m):\n",
        "  sums = sum(N);\n",
        "  sums =sum(int(i) for i in N)\n",
        "  # below code sample gives a sample failed wrong answer error even though It passes the samples\n",
        "  # sums = 0;\n",
        "  # for i in N:\n",
        "  #   sums +=sums+i;\n",
        "  result = sums % m;\n",
        "  return result \n",
        "\n",
        "t= int(input())\n",
        "\n",
        "for i in range(0 , t):\n",
        "    # n, m = map(int, input().split());\n",
        "    # The above line gives some wrong answer error in the code even though It passes the samples\n",
        "    #  it had to be in a tuple \n",
        "    (n, m) = tuple(map(int, input().split()))\n",
        "    N = [int(j) for j in input().split()]\n",
        "    ans = f(N,m);\n",
        "    # print(diff)\n",
        "    # ans= n-diff\n",
        "    print (\"Case #{}:{}\".format(i+1, ans))"
      ]
    }
  ]
}